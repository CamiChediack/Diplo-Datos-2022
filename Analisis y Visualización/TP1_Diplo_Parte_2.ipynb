{
  "nbformat": 4,
  "nbformat_minor": 0,
  "metadata": {
    "colab": {
      "name": "TP1_Diplo_Parte 2.ipynb",
      "provenance": [],
      "collapsed_sections": []
    },
    "kernelspec": {
      "name": "python3",
      "display_name": "Python 3"
    }
  },
  "cells": [
    {
      "cell_type": "markdown",
      "metadata": {
        "id": "LYvAOR2VzHmW"
      },
      "source": [
        "\n",
        "**Diplomatura en Ciencia de Datos, Aprendizaje Automático y sus Aplicaciones**\n",
        "\n",
        "**Edición 2022**\n",
        "\n",
        "---\n",
        "\n",
        "# Trabajo práctico entregable - Parte 2"
      ]
    },
    {
      "cell_type": "code",
      "metadata": {
        "id": "Xwdfo7z20TUK"
      },
      "source": [
        "import io\n",
        "import matplotlib\n",
        "import matplotlib.pyplot as plt\n",
        "import numpy\n",
        "import pandas as pd\n",
        "import seaborn\n",
        "import scipy\n",
        "\n",
        "seaborn.set_context('talk')"
      ],
      "execution_count": 1,
      "outputs": []
    },
    {
      "cell_type": "markdown",
      "metadata": {
        "id": "XY2Hl-Ma07Nn"
      },
      "source": [
        "## Lectura del dataset\n",
        "\n",
        "En la notebook 00 se explican los detalles de la siguiente sección."
      ]
    },
    {
      "cell_type": "code",
      "metadata": {
        "id": "Vviv_sqXdR5W"
      },
      "source": [
        "url = 'https://cs.famaf.unc.edu.ar/~mteruel/datasets/diplodatos/sysarmy_survey_2020_processed.csv'\n",
        "df = pd.read_csv(url)"
      ],
      "execution_count": 2,
      "outputs": []
    },
    {
      "cell_type": "code",
      "metadata": {
        "id": "gckNHXXLktJ4",
        "colab": {
          "base_uri": "https://localhost:8080/",
          "height": 324
        },
        "outputId": "4dae0a32-4658-4e63-cfd2-a8b16f91ce7b"
      },
      "source": [
        "df[:3]"
      ],
      "execution_count": 3,
      "outputs": [
        {
          "output_type": "execute_result",
          "data": {
            "text/plain": [
              "  profile_gender  profile_age work_country                    work_province  \\\n",
              "0          Mujer           26    Argentina  Ciudad Autónoma de Buenos Aires   \n",
              "1         Hombre           29    Argentina                       Corrientes   \n",
              "2          Mujer           22    Argentina  Ciudad Autónoma de Buenos Aires   \n",
              "\n",
              "   profile_years_experience  work_years_in_company  \\\n",
              "0                       3.0                    3.0   \n",
              "1                       5.0                    2.0   \n",
              "2                       2.0                    0.0   \n",
              "\n",
              "   work_years_in_current_position  work_people_in_charge_of  \\\n",
              "0                             3.0                         0   \n",
              "1                             2.0                         4   \n",
              "2                             0.0                         0   \n",
              "\n",
              "  profile_studies_level profile_studies_level_state  ...  \\\n",
              "0         Universitario                    En curso  ...   \n",
              "1         Universitario                    En curso  ...   \n",
              "2            Secundario                  Completado  ...   \n",
              "\n",
              "  work_has_violence_situations profile_sexual_orientation  \\\n",
              "0         En mi trabajo actual                 Homosexual   \n",
              "1                        Jamás               Heterosexual   \n",
              "2       En un trabajo anterior           Bisexual o queer   \n",
              "\n",
              "  profile_has_disabilities profile_has_disabilities_hiring_difficulties  \\\n",
              "0                      NaN                                          NaN   \n",
              "1                   Visual                                           No   \n",
              "2                      NaN                                           No   \n",
              "\n",
              "  company_employee_number                          company_main_activity  \\\n",
              "0                501-1000  Servicios / Consultoría de Software / Digital   \n",
              "1                 201-500                               Otras industrias   \n",
              "2               2001-5000                               Otras industrias   \n",
              "\n",
              "  company_recommended company_diversity_policies  \\\n",
              "0                   7                          2   \n",
              "1                   8                          9   \n",
              "2                   6                          9   \n",
              "\n",
              "                              company_extra_benefits  \\\n",
              "0  Capacitaciones y/o cursos, Comidas pagas / sub...   \n",
              "1  Horarios flexibles, Stock options / RSUs, Viát...   \n",
              "2  Clases de gimnasia online, Comidas pagas / sub...   \n",
              "\n",
              "  company_best_companies_city  \n",
              "0                         NaN  \n",
              "1                         NaN  \n",
              "2                         NaN  \n",
              "\n",
              "[3 rows x 48 columns]"
            ],
            "text/html": [
              "\n",
              "  <div id=\"df-715f4b9f-5d72-4bdf-806b-3c15769f8c89\">\n",
              "    <div class=\"colab-df-container\">\n",
              "      <div>\n",
              "<style scoped>\n",
              "    .dataframe tbody tr th:only-of-type {\n",
              "        vertical-align: middle;\n",
              "    }\n",
              "\n",
              "    .dataframe tbody tr th {\n",
              "        vertical-align: top;\n",
              "    }\n",
              "\n",
              "    .dataframe thead th {\n",
              "        text-align: right;\n",
              "    }\n",
              "</style>\n",
              "<table border=\"1\" class=\"dataframe\">\n",
              "  <thead>\n",
              "    <tr style=\"text-align: right;\">\n",
              "      <th></th>\n",
              "      <th>profile_gender</th>\n",
              "      <th>profile_age</th>\n",
              "      <th>work_country</th>\n",
              "      <th>work_province</th>\n",
              "      <th>profile_years_experience</th>\n",
              "      <th>work_years_in_company</th>\n",
              "      <th>work_years_in_current_position</th>\n",
              "      <th>work_people_in_charge_of</th>\n",
              "      <th>profile_studies_level</th>\n",
              "      <th>profile_studies_level_state</th>\n",
              "      <th>...</th>\n",
              "      <th>work_has_violence_situations</th>\n",
              "      <th>profile_sexual_orientation</th>\n",
              "      <th>profile_has_disabilities</th>\n",
              "      <th>profile_has_disabilities_hiring_difficulties</th>\n",
              "      <th>company_employee_number</th>\n",
              "      <th>company_main_activity</th>\n",
              "      <th>company_recommended</th>\n",
              "      <th>company_diversity_policies</th>\n",
              "      <th>company_extra_benefits</th>\n",
              "      <th>company_best_companies_city</th>\n",
              "    </tr>\n",
              "  </thead>\n",
              "  <tbody>\n",
              "    <tr>\n",
              "      <th>0</th>\n",
              "      <td>Mujer</td>\n",
              "      <td>26</td>\n",
              "      <td>Argentina</td>\n",
              "      <td>Ciudad Autónoma de Buenos Aires</td>\n",
              "      <td>3.0</td>\n",
              "      <td>3.0</td>\n",
              "      <td>3.0</td>\n",
              "      <td>0</td>\n",
              "      <td>Universitario</td>\n",
              "      <td>En curso</td>\n",
              "      <td>...</td>\n",
              "      <td>En mi trabajo actual</td>\n",
              "      <td>Homosexual</td>\n",
              "      <td>NaN</td>\n",
              "      <td>NaN</td>\n",
              "      <td>501-1000</td>\n",
              "      <td>Servicios / Consultoría de Software / Digital</td>\n",
              "      <td>7</td>\n",
              "      <td>2</td>\n",
              "      <td>Capacitaciones y/o cursos, Comidas pagas / sub...</td>\n",
              "      <td>NaN</td>\n",
              "    </tr>\n",
              "    <tr>\n",
              "      <th>1</th>\n",
              "      <td>Hombre</td>\n",
              "      <td>29</td>\n",
              "      <td>Argentina</td>\n",
              "      <td>Corrientes</td>\n",
              "      <td>5.0</td>\n",
              "      <td>2.0</td>\n",
              "      <td>2.0</td>\n",
              "      <td>4</td>\n",
              "      <td>Universitario</td>\n",
              "      <td>En curso</td>\n",
              "      <td>...</td>\n",
              "      <td>Jamás</td>\n",
              "      <td>Heterosexual</td>\n",
              "      <td>Visual</td>\n",
              "      <td>No</td>\n",
              "      <td>201-500</td>\n",
              "      <td>Otras industrias</td>\n",
              "      <td>8</td>\n",
              "      <td>9</td>\n",
              "      <td>Horarios flexibles, Stock options / RSUs, Viát...</td>\n",
              "      <td>NaN</td>\n",
              "    </tr>\n",
              "    <tr>\n",
              "      <th>2</th>\n",
              "      <td>Mujer</td>\n",
              "      <td>22</td>\n",
              "      <td>Argentina</td>\n",
              "      <td>Ciudad Autónoma de Buenos Aires</td>\n",
              "      <td>2.0</td>\n",
              "      <td>0.0</td>\n",
              "      <td>0.0</td>\n",
              "      <td>0</td>\n",
              "      <td>Secundario</td>\n",
              "      <td>Completado</td>\n",
              "      <td>...</td>\n",
              "      <td>En un trabajo anterior</td>\n",
              "      <td>Bisexual o queer</td>\n",
              "      <td>NaN</td>\n",
              "      <td>No</td>\n",
              "      <td>2001-5000</td>\n",
              "      <td>Otras industrias</td>\n",
              "      <td>6</td>\n",
              "      <td>9</td>\n",
              "      <td>Clases de gimnasia online, Comidas pagas / sub...</td>\n",
              "      <td>NaN</td>\n",
              "    </tr>\n",
              "  </tbody>\n",
              "</table>\n",
              "<p>3 rows × 48 columns</p>\n",
              "</div>\n",
              "      <button class=\"colab-df-convert\" onclick=\"convertToInteractive('df-715f4b9f-5d72-4bdf-806b-3c15769f8c89')\"\n",
              "              title=\"Convert this dataframe to an interactive table.\"\n",
              "              style=\"display:none;\">\n",
              "        \n",
              "  <svg xmlns=\"http://www.w3.org/2000/svg\" height=\"24px\"viewBox=\"0 0 24 24\"\n",
              "       width=\"24px\">\n",
              "    <path d=\"M0 0h24v24H0V0z\" fill=\"none\"/>\n",
              "    <path d=\"M18.56 5.44l.94 2.06.94-2.06 2.06-.94-2.06-.94-.94-2.06-.94 2.06-2.06.94zm-11 1L8.5 8.5l.94-2.06 2.06-.94-2.06-.94L8.5 2.5l-.94 2.06-2.06.94zm10 10l.94 2.06.94-2.06 2.06-.94-2.06-.94-.94-2.06-.94 2.06-2.06.94z\"/><path d=\"M17.41 7.96l-1.37-1.37c-.4-.4-.92-.59-1.43-.59-.52 0-1.04.2-1.43.59L10.3 9.45l-7.72 7.72c-.78.78-.78 2.05 0 2.83L4 21.41c.39.39.9.59 1.41.59.51 0 1.02-.2 1.41-.59l7.78-7.78 2.81-2.81c.8-.78.8-2.07 0-2.86zM5.41 20L4 18.59l7.72-7.72 1.47 1.35L5.41 20z\"/>\n",
              "  </svg>\n",
              "      </button>\n",
              "      \n",
              "  <style>\n",
              "    .colab-df-container {\n",
              "      display:flex;\n",
              "      flex-wrap:wrap;\n",
              "      gap: 12px;\n",
              "    }\n",
              "\n",
              "    .colab-df-convert {\n",
              "      background-color: #E8F0FE;\n",
              "      border: none;\n",
              "      border-radius: 50%;\n",
              "      cursor: pointer;\n",
              "      display: none;\n",
              "      fill: #1967D2;\n",
              "      height: 32px;\n",
              "      padding: 0 0 0 0;\n",
              "      width: 32px;\n",
              "    }\n",
              "\n",
              "    .colab-df-convert:hover {\n",
              "      background-color: #E2EBFA;\n",
              "      box-shadow: 0px 1px 2px rgba(60, 64, 67, 0.3), 0px 1px 3px 1px rgba(60, 64, 67, 0.15);\n",
              "      fill: #174EA6;\n",
              "    }\n",
              "\n",
              "    [theme=dark] .colab-df-convert {\n",
              "      background-color: #3B4455;\n",
              "      fill: #D2E3FC;\n",
              "    }\n",
              "\n",
              "    [theme=dark] .colab-df-convert:hover {\n",
              "      background-color: #434B5C;\n",
              "      box-shadow: 0px 1px 3px 1px rgba(0, 0, 0, 0.15);\n",
              "      filter: drop-shadow(0px 1px 2px rgba(0, 0, 0, 0.3));\n",
              "      fill: #FFFFFF;\n",
              "    }\n",
              "  </style>\n",
              "\n",
              "      <script>\n",
              "        const buttonEl =\n",
              "          document.querySelector('#df-715f4b9f-5d72-4bdf-806b-3c15769f8c89 button.colab-df-convert');\n",
              "        buttonEl.style.display =\n",
              "          google.colab.kernel.accessAllowed ? 'block' : 'none';\n",
              "\n",
              "        async function convertToInteractive(key) {\n",
              "          const element = document.querySelector('#df-715f4b9f-5d72-4bdf-806b-3c15769f8c89');\n",
              "          const dataTable =\n",
              "            await google.colab.kernel.invokeFunction('convertToInteractive',\n",
              "                                                     [key], {});\n",
              "          if (!dataTable) return;\n",
              "\n",
              "          const docLinkHtml = 'Like what you see? Visit the ' +\n",
              "            '<a target=\"_blank\" href=https://colab.research.google.com/notebooks/data_table.ipynb>data table notebook</a>'\n",
              "            + ' to learn more about interactive tables.';\n",
              "          element.innerHTML = '';\n",
              "          dataTable['output_type'] = 'display_data';\n",
              "          await google.colab.output.renderOutput(dataTable, element);\n",
              "          const docLink = document.createElement('div');\n",
              "          docLink.innerHTML = docLinkHtml;\n",
              "          element.appendChild(docLink);\n",
              "        }\n",
              "      </script>\n",
              "    </div>\n",
              "  </div>\n",
              "  "
            ]
          },
          "metadata": {},
          "execution_count": 3
        }
      ]
    },
    {
      "cell_type": "markdown",
      "metadata": {
        "id": "co_0M_ojtmUh"
      },
      "source": [
        "## Ejercicio 1: Estimación\n",
        "\n",
        "**Consigna:**  Calcular una estimación puntual y un intervalo de confianza de nivel (1-alpha) para la resta entre la media del Salario Neto para Hombres menos la media del Salario Neto para otros géneros(diferencia de las medias entre el grupoA y grupoB). \n",
        "¿Cómo se relaciona este intervalo de confianza con el test de hipótesis?"
      ]
    },
    {
      "cell_type": "markdown",
      "source": [
        "**Paso 1 :Preparación de la base**\n",
        "\n",
        "Al trabajar con salarios, volveremos a \"curar\" la base según idénticos criterios que los adoptados en el parte 1.\n",
        "1. Excluir los casos en donde la diferncias entre salario neto y bruto sean menor a 20.4% y donde el salario bruto sea mayor al 80% del salario neto. Estos criterios, surgen de evaluar el impacto de la retenciones según ley argentina sobre los sueldo brutos(11% Caja de Jubilación, 3% Obra social, 3% Pami) y la máxima retención que puede sufrir un asalariado por pago a cuenta de impuesto a las ganancias 33%). \n",
        "2. También consideramos como outliers los salarios brutos mayor a 36.000  y menor a 350.000 según el analisis decripto en la parte 1"
      ],
      "metadata": {
        "id": "Npn5hdgqlZux"
      }
    },
    {
      "cell_type": "code",
      "source": [
        "df_SBandSN_OK = df[(df.salary_monthly_BRUTO >= df.salary_monthly_NETO*1.205) \n",
        "        &(df.salary_monthly_BRUTO <= df.salary_monthly_NETO*1.8)]"
      ],
      "metadata": {
        "id": "DQe5zlzinPxu"
      },
      "execution_count": 4,
      "outputs": []
    },
    {
      "cell_type": "code",
      "source": [
        "df_salary_ok = [(df_SBandSN_OK.salary_monthly_BRUTO > 36000) & (df_SBandSN_OK.salary_monthly_BRUTO < 350000)]"
      ],
      "metadata": {
        "id": "bb7Y9ccsnYt6"
      },
      "execution_count": 5,
      "outputs": []
    },
    {
      "cell_type": "markdown",
      "source": [
        "**Paso 2 :Realizamos la estimación puntual de la media del salario neto de ambas poblaciones**"
      ],
      "metadata": {
        "id": "kQyZwN6OpOsZ"
      }
    },
    {
      "cell_type": "code",
      "source": [
        "is_man = df.profile_gender == 'Hombre'\n",
        "groupA = df[(is_man)].salary_monthly_NETO   # hombres\n",
        "groupB = df[( ~is_man)].salary_monthly_NETO  # mujer + otros"
      ],
      "metadata": {
        "id": "w4GqxkmmpnH4"
      },
      "execution_count": 118,
      "outputs": []
    },
    {
      "cell_type": "code",
      "source": [
        "groupA.describe().round()"
      ],
      "metadata": {
        "colab": {
          "base_uri": "https://localhost:8080/"
        },
        "id": "mpntpWa83LuK",
        "outputId": "220789ca-0bc4-4b8e-99c4-75e95cb7701b"
      },
      "execution_count": 7,
      "outputs": [
        {
          "output_type": "execute_result",
          "data": {
            "text/plain": [
              "count       4944.0\n",
              "mean       98836.0\n",
              "std       102160.0\n",
              "min            1.0\n",
              "25%        53285.0\n",
              "50%        80000.0\n",
              "75%       110000.0\n",
              "max      2080000.0\n",
              "Name: salary_monthly_NETO, dtype: float64"
            ]
          },
          "metadata": {},
          "execution_count": 7
        }
      ]
    },
    {
      "cell_type": "code",
      "source": [
        "groupB.describe().round()"
      ],
      "metadata": {
        "colab": {
          "base_uri": "https://localhost:8080/"
        },
        "id": "KcoqX7nJtT30",
        "outputId": "bda4540d-7fed-4ebb-988d-c639779d31c4"
      },
      "execution_count": 8,
      "outputs": [
        {
          "output_type": "execute_result",
          "data": {
            "text/plain": [
              "count       939.0\n",
              "mean      74226.0\n",
              "std       57679.0\n",
              "min           2.0\n",
              "25%       43800.0\n",
              "50%       65000.0\n",
              "75%       92250.0\n",
              "max      800000.0\n",
              "Name: salary_monthly_NETO, dtype: float64"
            ]
          },
          "metadata": {},
          "execution_count": 8
        }
      ]
    },
    {
      "cell_type": "code",
      "source": [
        "# Calculamos la estimación puntual de la diferencia de medias = $ 24.610,33\n",
        "dif_mean = round((groupA. mean() - groupB.mean()),2)\n",
        "dif_mean"
      ],
      "metadata": {
        "colab": {
          "base_uri": "https://localhost:8080/"
        },
        "id": "eMQhjrM22CdQ",
        "outputId": "038fd3f6-d8a3-4b2d-fda2-40253057a46c"
      },
      "execution_count": 9,
      "outputs": [
        {
          "output_type": "execute_result",
          "data": {
            "text/plain": [
              "24610.33"
            ]
          },
          "metadata": {},
          "execution_count": 9
        }
      ]
    },
    {
      "cell_type": "markdown",
      "source": [
        "Dada la estimación puntual realizada, podemos inferir que la diferencia entre salarios netos entre hombre y otros géneros (mujeres+otros) es de 24.610,33 pesos. También podemos decir que dada la estimación puntual realizada, en promedio los hombre cobran 24.610,33 pesos más que el grupo mujeres y otros géneros.\n",
        "Al determinar un dato puntual, es poco probable que esta afirmación la podamos repertir cualqueir otra muestra aleatoria que tomemos. Para ello es más recomendable determinar un intervalo entre el cual es probable que la diferencia de medias varíe, dado una confianza determinada. "
      ],
      "metadata": {
        "id": "62dNhNWz2gIe"
      }
    },
    {
      "cell_type": "markdown",
      "source": [
        "**Paso 3. Calculamos un intervalo de confianza de nivel (1-alpha) para la resta entre la media del Salario Neto para Hombres menos la media del Salario Neto para otros géneros**"
      ],
      "metadata": {
        "id": "DFy2g2bZ3aC4"
      }
    },
    {
      "cell_type": "markdown",
      "source": [
        "Se deben dar 3 condiciones:\n",
        "\n",
        "Independencia: se supone que las dos muestras se consideran independientes ya que las respuestas de nivel de estudio son únicas y exclusivas de una sola persona, se han obtenido de forma aleatoria y no guardan relación unas con otras.\n",
        "\n",
        "Normalidad: ambas poblaciones deben mostrar una distribución aproximadamente normal. Por Teorema Central del Límite podemos decir que si nuestra muestra es razonablemente grande (n>30, )la distribución de la media muestral de cualquier variable sigue una distribución Normal. Si las medias siguen una distribucion normal la diferencia de ambas también.\n",
        "\n",
        "Las varianzas de ambas poblaciones deben ser iguales: para ello hicimos el test de Bartlett al suponer que ambas distribuciones son normales. El p_valor calculado es mucho menor a 0.05 por lo que se infiere que ambas varianzas son similares.\n"
      ],
      "metadata": {
        "id": "Okx4pddb6aoP"
      }
    },
    {
      "cell_type": "code",
      "source": [
        "from scipy import stats\n",
        "plt.style.use('ggplot')"
      ],
      "metadata": {
        "id": "NmPGxzel5Qze"
      },
      "execution_count": 10,
      "outputs": []
    },
    {
      "cell_type": "code",
      "source": [
        "#El test de bartlett muestra un p valor muy pequeño por lo qeu se puede considerar que las varianzas de ambas poblaciones son identicas\n",
        "bartlett_test = stats.bartlett(groupA, groupB)\n",
        "bartlett_test"
      ],
      "metadata": {
        "colab": {
          "base_uri": "https://localhost:8080/"
        },
        "id": "dXXH2nR-5kvB",
        "outputId": "603f7901-7ef0-4839-abab-66564aef9360"
      },
      "execution_count": 11,
      "outputs": [
        {
          "output_type": "execute_result",
          "data": {
            "text/plain": [
              "BartlettResult(statistic=410.15025278180656, pvalue=3.3995412367260803e-91)"
            ]
          },
          "metadata": {},
          "execution_count": 11
        }
      ]
    },
    {
      "cell_type": "markdown",
      "source": [
        "Al darse las condiciones de independencia, normalidad y varianza similares podemos calcular el intervalo de confianza para la estimación puntual de diferencia de medias ya calculada. Es el siguiente:\n",
        "\n",
        "![image.png](data:image/png;base64,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)\n"
      ],
      "metadata": {
        "id": "Ng6bCfpVs0j5"
      }
    },
    {
      "cell_type": "code",
      "source": [
        "# Calculamos el estadístico \"z\" con un nivel de significacion de 0.05\n",
        "z=round(scipy.stats.norm.ppf (1-.05 / 2),2)\n",
        "z"
      ],
      "metadata": {
        "colab": {
          "base_uri": "https://localhost:8080/"
        },
        "id": "-PZ17uMqOcwK",
        "outputId": "05442650-088a-4860-89a5-53e1b439ef16"
      },
      "execution_count": 12,
      "outputs": [
        {
          "output_type": "execute_result",
          "data": {
            "text/plain": [
              "1.96"
            ]
          },
          "metadata": {},
          "execution_count": 12
        }
      ]
    },
    {
      "cell_type": "code",
      "source": [
        "# Calculamos la Varianza de Salario Neto de Hombres\n",
        "var_A=round(groupA.var(),2)\n",
        "var_A"
      ],
      "metadata": {
        "colab": {
          "base_uri": "https://localhost:8080/"
        },
        "id": "_3_5udcsRm4r",
        "outputId": "9f2ecbda-8eda-4552-e45d-9321858b3303"
      },
      "execution_count": 13,
      "outputs": [
        {
          "output_type": "execute_result",
          "data": {
            "text/plain": [
              "10436596996.94"
            ]
          },
          "metadata": {},
          "execution_count": 13
        }
      ]
    },
    {
      "cell_type": "code",
      "source": [
        "# Calculamos la Varianza de Salario Neto de Mujeres + Otros\n",
        "var_B=round(groupB.var(),2)\n",
        "var_B"
      ],
      "metadata": {
        "colab": {
          "base_uri": "https://localhost:8080/"
        },
        "id": "Jpst7C5oWqc0",
        "outputId": "62790a8a-1d66-4b31-acab-a4c54a3c3564"
      },
      "execution_count": 14,
      "outputs": [
        {
          "output_type": "execute_result",
          "data": {
            "text/plain": [
              "3326892112.51"
            ]
          },
          "metadata": {},
          "execution_count": 14
        }
      ]
    },
    {
      "cell_type": "code",
      "source": [
        "# Calculamos el tamaño de la muestra Salario Neto de Hombres\n",
        "n_A = groupA.count()\n",
        "n_A"
      ],
      "metadata": {
        "colab": {
          "base_uri": "https://localhost:8080/"
        },
        "id": "GJlp-QcTXaE3",
        "outputId": "9af8bbe5-3106-47fd-afc2-afe450f6f634"
      },
      "execution_count": 15,
      "outputs": [
        {
          "output_type": "execute_result",
          "data": {
            "text/plain": [
              "4944"
            ]
          },
          "metadata": {},
          "execution_count": 15
        }
      ]
    },
    {
      "cell_type": "code",
      "source": [
        "# Calculamos el tamaño de la muestra Salario Neto de Mujeres+Otros\n",
        "n_B = groupB.count()\n",
        "n_B"
      ],
      "metadata": {
        "colab": {
          "base_uri": "https://localhost:8080/"
        },
        "id": "6S-zg7SDXqeP",
        "outputId": "8c8f3490-1fb7-44b1-e013-7e88756af7ba"
      },
      "execution_count": 16,
      "outputs": [
        {
          "output_type": "execute_result",
          "data": {
            "text/plain": [
              "939"
            ]
          },
          "metadata": {},
          "execution_count": 16
        }
      ]
    },
    {
      "cell_type": "code",
      "source": [
        "# Calculamos la suma de la varianzas dividido el tamaño de muestra de ambas muestras\n",
        "A = round((var_A / n_A) + (var_B / n_B) , 2)\n",
        "A"
      ],
      "metadata": {
        "colab": {
          "base_uri": "https://localhost:8080/"
        },
        "id": "T0tesZmaXv-J",
        "outputId": "5149fd73-c401-4911-ecc0-e0781bf7deff"
      },
      "execution_count": 17,
      "outputs": [
        {
          "output_type": "execute_result",
          "data": {
            "text/plain": [
              "5653978.27"
            ]
          },
          "metadata": {},
          "execution_count": 17
        }
      ]
    },
    {
      "cell_type": "code",
      "source": [
        "# Calculamos la raiz de lo anterior\n",
        "import cmath\n",
        "raizA=round((pow(A,0.5)),2)\n",
        "raizA"
      ],
      "metadata": {
        "colab": {
          "base_uri": "https://localhost:8080/"
        },
        "id": "dElvtKRDPR56",
        "outputId": "c1a6e305-9c9d-4abc-cc0f-bb4dff174584"
      },
      "execution_count": 18,
      "outputs": [
        {
          "output_type": "execute_result",
          "data": {
            "text/plain": [
              "2377.81"
            ]
          },
          "metadata": {},
          "execution_count": 18
        }
      ]
    },
    {
      "cell_type": "code",
      "source": [
        "# Calculamos el límite superior como: dif media+z* raizA\n",
        "Límite_Sup = round((dif_mean + (z * raizA)),2)\n",
        "Límite_Sup"
      ],
      "metadata": {
        "colab": {
          "base_uri": "https://localhost:8080/"
        },
        "id": "Wke14b-8bqkL",
        "outputId": "17790c1e-7c00-4a4a-c1f3-f0efcda5c2b2"
      },
      "execution_count": 19,
      "outputs": [
        {
          "output_type": "execute_result",
          "data": {
            "text/plain": [
              "29270.84"
            ]
          },
          "metadata": {},
          "execution_count": 19
        }
      ]
    },
    {
      "cell_type": "code",
      "source": [
        "# Calculamos el límite inferior como: dif media-z*raizA\n",
        "Límite_Inf = round((dif_mean - (z * raizA)),2)\n",
        "Límite_Inf"
      ],
      "metadata": {
        "colab": {
          "base_uri": "https://localhost:8080/"
        },
        "id": "L4SWfOmCcs9F",
        "outputId": "d6f2d4e5-ec4d-4e2c-e571-46b6d771e536"
      },
      "execution_count": 20,
      "outputs": [
        {
          "output_type": "execute_result",
          "data": {
            "text/plain": [
              "19949.82"
            ]
          },
          "metadata": {},
          "execution_count": 20
        }
      ]
    },
    {
      "cell_type": "code",
      "source": [
        "# Calculamos de rango de intervalo de confianza del 95%\n",
        "rango_ic= Límite_Sup-Límite_Inf\n",
        "print(rango_ic)"
      ],
      "metadata": {
        "colab": {
          "base_uri": "https://localhost:8080/"
        },
        "id": "bpaHH0CQugUJ",
        "outputId": "a401842d-c480-4fc2-c5a9-c5938dd2f08a"
      },
      "execution_count": 23,
      "outputs": [
        {
          "output_type": "stream",
          "name": "stdout",
          "text": [
            "9321.02\n"
          ]
        }
      ]
    },
    {
      "cell_type": "markdown",
      "source": [
        "\n",
        "Con un nivel de confianza del 95\\% el intervalo va a contener el verdadero valor del parámetro desconocido: la diferencia de medias salariales por género. En definitiva, inferimos con un 95% de confianza, que las diferencias entre los salarios netos de hombres con respecto al de mujeres y otros puede variar entre 19.949,82 y 29.270,84 pesos.\n",
        "\n",
        "Esta hipótesis es una afirmación que debe ser sometida a prueba. El procedimiento para hacerlo se llama **prueba de las hipótesis** y  propone a traves de una serie de cálculos, demostrar que la afirmación anterior es correcta, al contrastarla con los datos obtenidos en la realidad.\n",
        "\n",
        "Por lo tanto procederemos a realizar un **test de hipótesis**, donde buscaremos contrastar si las medias salariales por género son iguales: \n",
        "$H_0$: las medias salariales son iguales.\n",
        "$H_1$: las medias salariales difieren.\n",
        "Su resultado nos indica si hay evidencia suficiente para rechazar o aceptar la hipótesis nula, con un nivel de confianza del 95\\%. Para ello se elige el estadístico adecuado y se define una zona de rechazo de la afirmación cuyos límites estarán relacionados al nivel de significacion con el que deseemos trabajar. \n",
        "\n",
        "Mientras que el intervalo de confianza nos indica el rango de la diferencia entre las medias, la prueba de hipótesis solo nos indica si hay evidencia suficiente para concluir si existe o no una diferencia entre las medias salariales, pero no indica de cuánto es esta diferencia. "
      ],
      "metadata": {
        "id": "b7Dkn4x4w0rQ"
      }
    },
    {
      "cell_type": "markdown",
      "metadata": {
        "id": "IFi2T7Y6nM92"
      },
      "source": [
        "## Ejercicio 2: Test de hipótesis\n"
      ]
    },
    {
      "cell_type": "markdown",
      "metadata": {
        "id": "Rzxe8UYU6EfJ"
      },
      "source": [
        "\n",
        "## 2.1 Formalización\n",
        "\n",
        "Describir formalmente los distintos componentes de un test de hipótesis para comprobar si la distribución de los salarios es distinta entre los grupos A y B.\n",
        "\n",
        "**Hipótesis Nula**\n",
        "\n",
        "No existe diferencia en la distribucion de los salarios entre los grupos A y B\n",
        "\n",
        "$H_0$: $\\mu_1-\\mu_2=0$\n",
        "\n",
        "$H_1$: $\\mu_1-\\mu_2 \\neq 0$\n",
        "\n",
        "2 - Establecimiento de nivel de significancia del test\n",
        "\n",
        "**Estadístico (Pivote)**\n",
        "  * Identificar el estadístico\n",
        "Utilizando los datos del ejercicio anterior, se toma una muestra y α=0.05. Se utiliza la distribución T-Student con varianzas desconocidas pero iguales (en el ejercicio anterior se realizó el test correspondiente para contrastar este supuesto). \n",
        "  * La distribución bajo $H_0$ es una $T \\sim n_A+n_B-2$\n",
        "  * A fin de lograr la validacion de la Hipotesis Nula debemos definir un estadistico de comparacion.\n",
        "\n",
        "Para el caso de población normal (esto se puede ver en el gráfico a continuación de las poblaciones de los salarios por género) o con $n\\geq30$ y varianzas desconocidas pero iguales:\n",
        "\n",
        "$$T = \\dfrac{(\\bar{X_A}-\\bar{X_B})-(\\mu_A-\\mu_A)}{S\\sqrt{\\dfrac{1}{n_A}+\\dfrac{1}{n_B}}}$$ \n",
        "Donde $$S^2 = \\dfrac{\\sum_{i=1}^{n_A}(X_A-\\bar{X_A})^2+\\sum_{i=1}^{n_B}(X_B-\\bar{X_B})^2}{n_A+n_B-2}$$"
      ]
    },
    {
      "cell_type": "markdown",
      "source": [
        "En primera instancia nos parece importante conocer la distribución de la población y también su composición para luego pasar a la prueba de hipótesis junto con las conclusiones. "
      ],
      "metadata": {
        "id": "xJL_S6vVCQwS"
      }
    },
    {
      "cell_type": "code",
      "source": [
        "# Gráficos de la distribución de la poblaciones de hombres y de mujeres y otros\n",
        "f,ax=plt.subplots(figsize=(12, 8))\n",
        "seaborn.distplot(groupA, color = 'purple')\n",
        "seaborn.distplot(groupB, color = 'orange')\n",
        "# Remuevo la notación científica\n",
        "plt.ticklabel_format(style='plain', axis='x')"
      ],
      "metadata": {
        "colab": {
          "base_uri": "https://localhost:8080/",
          "height": 622
        },
        "id": "TUyRg-ovI6K7",
        "outputId": "10e10838-96d5-4bdb-d3c0-c4f57853482f"
      },
      "execution_count": 73,
      "outputs": [
        {
          "output_type": "stream",
          "name": "stderr",
          "text": [
            "/usr/local/lib/python3.7/dist-packages/seaborn/distributions.py:2619: FutureWarning: `distplot` is a deprecated function and will be removed in a future version. Please adapt your code to use either `displot` (a figure-level function with similar flexibility) or `histplot` (an axes-level function for histograms).\n",
            "  warnings.warn(msg, FutureWarning)\n",
            "/usr/local/lib/python3.7/dist-packages/seaborn/distributions.py:2619: FutureWarning: `distplot` is a deprecated function and will be removed in a future version. Please adapt your code to use either `displot` (a figure-level function with similar flexibility) or `histplot` (an axes-level function for histograms).\n",
            "  warnings.warn(msg, FutureWarning)\n"
          ]
        },
        {
          "output_type": "display_data",
          "data": {
            "text/plain": [
              "<Figure size 864x576 with 1 Axes>"
            ],
            "image/png": "[encoded data removed]"
          },
          "metadata": {}
        }
      ]
    },
    {
      "cell_type": "code",
      "source": [
        "# Vamos a tomar una muestra del 30% de la población de hombres y mujeres y otros respectivamente, esto se hace a fin\n",
        "# de tener una muestra representativa, asi obtenemos estimaciones consistentes. Esta muestra se va a utilizar para graficar los datos y \n",
        "# hacer la prueba de hipótesis que se pide en el segundo ejercicio. \n",
        "alpha = 0.05\n",
        "n2_A = 1350 #muestra\n",
        "n2_B = 800\n",
        "muestra_A = groupA.sample(n2_A, replace=False) #Muestra hombres\n",
        "muestra_B = groupB.sample(n2_B, replace=False) #Muestra mujeres y otros"
      ],
      "metadata": {
        "id": "_fpAOrIFxQUK"
      },
      "execution_count": 71,
      "outputs": []
    },
    {
      "cell_type": "markdown",
      "source": [
        "En el gráfico observamos que la muestra_a (hombres) posee una mayor densidad por la derecha. Es decir, alcanza salarios mayores que la muestra_b. El salario neto de mujeres y otros se encuentra más focalizada al rededor de los \\$70000 - \\$80000. "
      ],
      "metadata": {
        "id": "z9hXODGnRNks"
      }
    },
    {
      "cell_type": "code",
      "source": [
        "fig, axes = plt.subplots(nrows=2, figsize=(16, 10))\n",
        "\n",
        "seaborn.distplot(muestra_A, color = 'orange', ax = axes[0])\n",
        "axes[0].axvline(muestra_A.mean(), color='black',\n",
        "            linestyle='--', label=round(muestra_A.mean()))\n",
        "axes[0].ticklabel_format(style='plain', axis = 'x') #Remuevo notación científica\n",
        "\n",
        "seaborn.distplot(muestra_B, color = 'blue', ax = axes[1])\n",
        "axes[1].axvline(muestra_B.mean(), color='orangered',\n",
        "            linestyle='--', label=round(muestra_B.mean()))\n",
        "\n",
        "axes[0].legend()\n",
        "axes[1].legend()\n",
        "seaborn.despine()"
      ],
      "metadata": {
        "colab": {
          "base_uri": "https://localhost:8080/",
          "height": 731
        },
        "id": "DoJXvHOw6768",
        "outputId": "008e379e-ac95-4d98-8445-380d027246df"
      },
      "execution_count": 72,
      "outputs": [
        {
          "output_type": "stream",
          "name": "stderr",
          "text": [
            "/usr/local/lib/python3.7/dist-packages/seaborn/distributions.py:2619: FutureWarning: `distplot` is a deprecated function and will be removed in a future version. Please adapt your code to use either `displot` (a figure-level function with similar flexibility) or `histplot` (an axes-level function for histograms).\n",
            "  warnings.warn(msg, FutureWarning)\n",
            "/usr/local/lib/python3.7/dist-packages/seaborn/distributions.py:2619: FutureWarning: `distplot` is a deprecated function and will be removed in a future version. Please adapt your code to use either `displot` (a figure-level function with similar flexibility) or `histplot` (an axes-level function for histograms).\n",
            "  warnings.warn(msg, FutureWarning)\n"
          ]
        },
        {
          "output_type": "display_data",
          "data": {
            "text/plain": [
              "<Figure size 1152x720 with 2 Axes>"
            ],
            "image/png": "[encoded data removed]"
          },
          "metadata": {}
        }
      ]
    },
    {
      "cell_type": "markdown",
      "source": [
        "El salario medio de un hombre es de \\$97.479, mientras que el salario medio de mujeres y otros es de \\$74.673. En promedio los hombres perciben \\$22.806 más. ¿Por qué? "
      ],
      "metadata": {
        "id": "vMZaCpSeUqzr"
      }
    },
    {
      "cell_type": "code",
      "source": [
        "N_A = groupA.count() # n poblacional Grupo A\n",
        "N_B = groupB.count() # n poblacional Grupo B\n",
        "print(N_A,N_B)\n",
        "\n",
        "participacion_A = N_A / (N_A + N_B)\n",
        "\n",
        "participacion_B = N_B / (N_A + N_B)\n",
        "print( participacion_A, participacion_B)"
      ],
      "metadata": {
        "id": "8NUqiT-2TGOU",
        "colab": {
          "base_uri": "https://localhost:8080/"
        },
        "outputId": "0e4720ea-f12c-4b84-bb49-97090641ec3f"
      },
      "execution_count": 68,
      "outputs": [
        {
          "output_type": "stream",
          "name": "stdout",
          "text": [
            "4944 939\n",
            "0.8403875573686894 0.15961244263131055\n"
          ]
        }
      ]
    },
    {
      "cell_type": "markdown",
      "source": [
        "La población está compuesta un 84% por hombres y un 16% por otros."
      ],
      "metadata": {
        "id": "nQYsuZvuSNum"
      }
    },
    {
      "cell_type": "code",
      "source": [
        "resultados = [participacion_A, participacion_B]\n",
        "nombres = [\"Hombres\", \"Mujeres y otros\"]\n",
        "colores = [\"#60D394\",\"#AAF683\"]\n",
        "plt.pie(resultados, labels=nombres, autopct=\"%0.1f %%\", colors=colores)\n",
        "plt.show()"
      ],
      "metadata": {
        "colab": {
          "base_uri": "https://localhost:8080/",
          "height": 248
        },
        "id": "r9Lje3KXiUlR",
        "outputId": "286922f8-d4f9-4a88-db39-40d505053555"
      },
      "execution_count": 69,
      "outputs": [
        {
          "output_type": "display_data",
          "data": {
            "text/plain": [
              "<Figure size 432x288 with 1 Axes>"
            ],
            "image/png": "[encoded data removed]"
          },
          "metadata": {}
        }
      ]
    },
    {
      "cell_type": "markdown",
      "source": [
        "Tanto para la población como para la muestra, la desviación estandar del salario neto es mayor para los hombres que para los otros. La distribución se encuentra más comprimida para \"otros\", mientras que vemos outliers para los hombres. \n"
      ],
      "metadata": {
        "id": "JvOYUKykTlWC"
      }
    },
    {
      "cell_type": "code",
      "source": [
        "#desviacion y varianza de la encuesta (Poblacional)\n",
        "desv_A = groupA.std()\n",
        "desv_B = groupB.std()\n",
        "varianza_A = groupA.var()\n",
        "varianza_B = groupB.var()\n",
        "print(\"Desviación / varianza standard de grupo A: {:.2f} / {:.2f}\".format(desv_A, varianza_A))\n",
        "print(\"Desviación / varianza standard de grupo B: {:.2f} / {:.2f}\".format(desv_B, varianza_B))"
      ],
      "metadata": {
        "colab": {
          "base_uri": "https://localhost:8080/"
        },
        "id": "DyzyuMh7wyug",
        "outputId": "ab0be81c-58e8-47d6-be23-db92ca02ba81"
      },
      "execution_count": 74,
      "outputs": [
        {
          "output_type": "stream",
          "name": "stdout",
          "text": [
            "Desviación / varianza standard de grupo A: 102159.66 / 10436596996.94\n",
            "Desviación / varianza standard de grupo B: 57679.22 / 3326892112.51\n"
          ]
        }
      ]
    },
    {
      "cell_type": "code",
      "source": [
        "#desviacion y varianza de las muestras (muestral)\n",
        "desv_muestra_A = muestra_A.std()\n",
        "desv_muestra_B = muestra_B.std()\n",
        "varianza_muestra_A = muestra_A.var()\n",
        "varianza_muestra_B = muestra_B.var()\n",
        "print(\"Desviación / varianza standard de MUESTRA grupo A: {:.2f} / {:.2f}\".format(desv_muestra_A, varianza_muestra_A))\n",
        "print(\"Desviación / varianza standard de MUESTRA grupo B: {:.2f} / {:.2f}\".format(desv_muestra_B, varianza_muestra_B))"
      ],
      "metadata": {
        "colab": {
          "base_uri": "https://localhost:8080/"
        },
        "id": "jZHYqiqzun6Q",
        "outputId": "e3435dd0-f554-4e9a-ea87-aa7124a50d2d"
      },
      "execution_count": 75,
      "outputs": [
        {
          "output_type": "stream",
          "name": "stdout",
          "text": [
            "Desviación / varianza standard de MUESTRA grupo A: 106682.49 / 11381152734.79\n",
            "Desviación / varianza standard de MUESTRA grupo B: 60095.23 / 3611436934.81\n"
          ]
        }
      ]
    },
    {
      "cell_type": "markdown",
      "source": [
        "Luego de todos estos análisis pasamos a realizar la prueba de hipótesis planteada al comienzo, donde vamos a constrastar si hay evidencia suficiente para concluir la existencia de una diferencia entre las medias salariales de acuerdo al género. "
      ],
      "metadata": {
        "id": "r1arzC7wEBuH"
      }
    },
    {
      "cell_type": "code",
      "source": [
        "from scipy.stats import norm\n",
        "alpha = 0.05\n",
        "d2f = n2_A+n2_B-2\n",
        "t_alpha = scipy.stats.t.ppf(1-alpha/2, d2f)"
      ],
      "metadata": {
        "id": "4tF3AbLGQI_t"
      },
      "execution_count": 76,
      "outputs": []
    },
    {
      "cell_type": "code",
      "source": [
        "media_muestra_A = muestra_A.mean()\n",
        "media_muestra_B = muestra_B.mean()\n",
        "media_A = groupA.mean()\n",
        "media_B = groupB.mean()\n",
        "\n",
        "#Cálculo de S:\n",
        "#numerador: dado que la varianza es la suma del cuadrado de los desvíos respecto a la media dividido n, al multiplicar por n obtengo solo la sumatoria\n",
        "# del cuadrado de los desvíos\n",
        "nvar_muestra_A = muestra_A.var()*n2_A\n",
        "nvar_muestra_B = muestra_B.var()*n2_B\n",
        "Numerador = nvar_muestra_A+nvar_muestra_B\n",
        "Denominador = d2f #Es igual a los grados de libertad\n",
        "S = Numerador/Denominador\n",
        "\n",
        "# calculamos el t_p del estadistico de comparacion para verificar t_p cae en la zona de rechazo o de no rechazo de la H0. \n",
        "t_p= ((media_muestra_A-media_muestra_B)-(media_A-media_B))/(numpy.sqrt(S*(1/n2_A+1/n2_B)))\n",
        "\n",
        "\n",
        "\n",
        "print(\"Estadístico T observado {:.2f} / Estadístico T crítico: +/- {:.2f}\".format(t_p, t_alpha))\n",
        "\n",
        "#Segun los resultados obtenidos, el T observado cae en la zona de no rechazo de la H0, por ende no hay evidencia suficiente para concluir que hay \n",
        "# una diferencia de medias. "
      ],
      "metadata": {
        "id": "NeFyr2STmC9k",
        "colab": {
          "base_uri": "https://localhost:8080/"
        },
        "outputId": "5c68842e-e309-4332-9e29-5d55a18a1bbb"
      },
      "execution_count": 93,
      "outputs": [
        {
          "output_type": "stream",
          "name": "stdout",
          "text": [
            "Estadístico T observado -0.44 / Estadístico T crítico: +/- 1.96\n"
          ]
        }
      ]
    },
    {
      "cell_type": "markdown",
      "metadata": {
        "id": "3Ip_5YdenC8u"
      },
      "source": [
        "### 2.2 P-valor\n",
        "\n",
        "1. Calcule el p-valor y decida si rechazar o no la hipótesis nula.\n",
        "\n",
        "2. Interprete el resultado.\n",
        "\n",
        "Links útiles:\n",
        "* [Test de hipótesis usando scipy](https://docs.scipy.org/doc/scipy/reference/generated/scipy.stats.ttest_ind.html)\n",
        "* [Test de Welch](http://daniellakens.blogspot.com/2015/01/always-use-welchs-t-test-instead-of.html)"
      ]
    },
    {
      "cell_type": "markdown",
      "source": [
        "Para el calculo del pvalor se tomo una muestra con 20 datos (10 de hombres y 10 de otro genero). \n",
        "Dado que $n < 30$ y las varianzas son distintas, se utiliza el test de WELCH. Este test debería ser usado por default en vez de el test t-student dado que el test de Welch tiene una mejor performance cuando el tamaño de la muestra y las varianzas son distintas entre los grupos y además da el mismo resultado cuando el tamaño de muestra y las varianzas son iguales entre grupos. \n",
        "\n",
        "Los supuestos que se deben cumplir de este test son: \n",
        "\n",
        "- La variable independiente (género) es categórica con al menos dos niveles (grupos) \n",
        "- La variable dependiente (salario neto) es continua\n",
        "- Las dos poblaciones se distribuyen normal \n",
        "\n",
        "Todos los supuestos se cumplen. "
      ],
      "metadata": {
        "id": "kp8xiNSvPhzZ"
      }
    },
    {
      "cell_type": "code",
      "source": [
        "# El tamaño de muestra debe ser igual para poder usar el stats.ttest_ind, se \n",
        "n_A = 10\n",
        "n_B = 10\n",
        "muestra1_A = groupA.sample(n_A, replace=False)\n",
        "muestra1_B = groupB.sample(n_B, replace=False)\n",
        "varianza_muestra1_A = muestra1_A.var()\n",
        "varianza_muestra1_B = muestra1_B.var()\n",
        "print(\"Varianza de la muestra A /Varianza de la muestra B : {:.2f} / {:.2f}\".format(varianza_muestra1_A, varianza_muestra1_B))"
      ],
      "metadata": {
        "colab": {
          "base_uri": "https://localhost:8080/"
        },
        "id": "gi5VcroPPOZl",
        "outputId": "14abbd23-f13c-49f9-a462-3ea44da95932"
      },
      "execution_count": 128,
      "outputs": [
        {
          "output_type": "stream",
          "name": "stdout",
          "text": [
            "Varianza de la muestra A /Varianza de la muestra B : 4528918027.45 / 719566666.67\n"
          ]
        }
      ]
    },
    {
      "cell_type": "markdown",
      "source": [
        "# P_VALOR \n",
        "Se calcula el **p-valor**: mide la probabilidad de obtener los resultados observados, asumiendo que la hipótesis nula es verdadera. Si esta probabilidad es pequeña (menor que α ) se rechaza H0 y se concluye que la diferencia observada no es atribuible al azar y las medias de las dos poblaciones son diferentes."
      ],
      "metadata": {
        "id": "WD-M6b8U2KTM"
      }
    },
    {
      "cell_type": "code",
      "source": [
        "# El test de Welch es una prueba donde la hipótesis nula es que las medias de dos muestras independientes son iguales. Dicho test asume que las poblaciones\n",
        "# tinenen varianzas idénticas por default. \n",
        "# Importamos scipy para hacer el test\n",
        "n_A = 10\n",
        "n_B = 10\n",
        "muestra1_A = groupA.sample(n_A, replace=False)\n",
        "muestra1_B = groupB.sample(n_B, replace=False)\n",
        "\n",
        "from scipy import stats\n",
        "w = stats.ttest_ind(muestra1_A, muestra1_B, equal_var = False) \n",
        "w"
      ],
      "metadata": {
        "colab": {
          "base_uri": "https://localhost:8080/"
        },
        "id": "S5lq2_VS3lmA",
        "outputId": "b810ad13-ba34-4d8e-b618-877cbed81847"
      },
      "execution_count": 133,
      "outputs": [
        {
          "output_type": "execute_result",
          "data": {
            "text/plain": [
              "Ttest_indResult(statistic=0.45722977371693463, pvalue=0.6535676675248692)"
            ]
          },
          "metadata": {},
          "execution_count": 133
        }
      ]
    },
    {
      "cell_type": "markdown",
      "source": [
        "**Podemos observar que el P-valor > α lo que nos indica que la hipotesis nula es verdadera. Es decir, las medias entre los dos grupos no difieren. Este resultado concuerda con la prueba de hipótesis planteada anteriormente, por lo que se considera coherente.**"
      ],
      "metadata": {
        "id": "zNpxVDo04OpB"
      }
    },
    {
      "cell_type": "markdown",
      "metadata": {
        "id": "useKMdPyMod5"
      },
      "source": [
        "## Ejercicio 3: Comunicación y visualización\n",
        "\n",
        "**Consigna:** Seleccionen un resultado que les parezca relevante a partir de alguno de los ejercicios del entregable. Diseñe e implemente una comunicación en base a este mensaje, en un archivo PDF.\n",
        "\n",
        "Elija las palabras y visualización más adecuada para que la comunicación sea entendible, efectiva y se dapte a UNA de las siguientes situaciones:\n",
        "\n",
        "1. Una sección en un artículo de difusión a presentar como parte de una organización sin fines de lucro.\n",
        "No más de 1 página A4 (o dos si los gráficos son muy grandes).\n",
        "  1. Ejemplo: Alguna de las secciones [Los ecosistemas de emprendimiento de América Latina y el Caribe frente al COVID-19: Impactos, necesidades y recomendaciones](https://publications.iadb.org/es/los-ecosistemas-de-emprendimiento-de-america-latina-y-el-caribe-frente-al-covid-19-impactos-necesidades-y-recomendaciones), por ejemplo la sección *2.2. Reacciones de los emprendedores*.\n",
        "  2. Ejemplo: Alguna de las secciones de [The state of gender pay gap in 2021](https://www.payscale.com/data/gender-pay-gap?tk=carousel-ps-rc-job)\n",
        "  3. Puntos clave: \n",
        "    1. Simpleza de los gráficos.\n",
        "    2. Comunicación en lenguaje simple a personas que no son necesariamente expertos de dominio.\n",
        "    2. Selección de UNA oración sobre la que se hace énfasis.\n",
        "    3. No es necesario que mencionen objetivos ni descripciones del conjunto de datos, se supone que eso ya estaría explicado en otras secciones del informe.\n",
        "\n",
        "2. Una publicación científica o reporte técnico interno. No más de una página A4:\n",
        "  2. Ejemplo: La sección de resultados de [IZA DP No. 12914: The Impact of a Minimum Wage Change on the Distribution of Wages and Household Income](https://www.iza.org/publications/dp/12914/the-impact-of-a-minimum-wage-change-on-the-distribution-of-wages-and-household-income).\n",
        "  2. Ejemplo: Alguna de las secciones de [Temporary reduction in daily global CO2 emissions during the COVID-19 forced confinement](https://www.nature.com/articles/s41558-020-0797-x)\n",
        "  3. Puntos clave:\n",
        "    3. Nivel de detalle técnico requerido. Es necesario justificar la validez del análisis.\n",
        "    4. La idea presentada puede ser más compleja. Pueden asumir que la audiencia tiene conocimiento técnico y va a analizar las visualizaciones en detalle. \n",
        "    5. Pueden presentar más en detalle las limitaciones del análisis (significancia estadística, etc.)\n",
        "    2. No es necesario que mencionen objetivos ni descripciones del conjunto de datos, se supone que eso ya estaría explicado en otras secciones del informe.\n",
        "\n",
        "3. Un tweet (o post de LinkedIn) para la cuenta de su empresa consultora que hace análisis de datos. El objetivo es promocionar un análisis de datos abiertos que van a incluir en su portfolio:\n",
        "  1. Ejemplo: [Comparación vacunas covid](https://twitter.com/infobeautiful/status/1381577746527236098?s=20)\n",
        "  2. Ejemplo: [Tweet del BID](https://twitter.com/el_BID/status/1388508583944507396?s=20). Lo valioso de este tweet es que usaron un único número para transmitir un mensaje. Puede ser algo así, o con un gráfico muy simple.\n",
        "  3. Ejemplo: [Cambio climático](https://twitter.com/UNFCCC/status/1387732156190011394?s=20) Es un muy buen ejemplo, excepto que el gráfico no se lee nada y hay que entrar a la publicación original.\n",
        "  3. Ejemplo: [¿Cuánto están los programadores en las empresas?](https://www.linkedin.com/posts/denis-rothman-0b034043_tech-career-work-activity-6793861923269054464-gS6y) (No verificamos la veracidad o seriedad de la fuente).\n",
        "  4. Puntos clave:\n",
        "    1. Su audiencia no va a mirar la visualización por más de unos segundos, y no tiene conocimiento técnico.\n",
        "  3. Tienen que incluir además una *breve* descripción de cómo obtuvieron los datos que están presentando, que no entraría en el tweet.\n"
      ]
    },
    {
      "cell_type": "markdown",
      "source": [
        "Para este último ejercicio vamos a elegir armar un tweet con todas las especificaciones que se piden. Este va a ser entregado en un archivo pdf junto con el archivo .ipynb donde se encuentran los cálculos y gráficos que se utilizaron para realizar el punto 3, junto con el resto de los ejercicios. "
      ],
      "metadata": {
        "id": "ibZyG9UqIK7P"
      }
    },
    {
      "cell_type": "code",
      "metadata": {
        "id": "twwYHUztt45L",
        "colab": {
          "base_uri": "https://localhost:8080/",
          "height": 248
        },
        "outputId": "9705cf1c-af19-4de3-cf7f-92d98d5eebfe"
      },
      "source": [
        "# Gráfico de torta que se va a visualizar en el tweet. \n",
        "resultados = [participacion_A, participacion_B]\n",
        "nombres = [\"Hombres\", \"Mujeres y otros\"]\n",
        "colores = [\"#60D394\",\"#AAF683\"]\n",
        "plt.pie(resultados, labels=nombres, autopct=\"%0.1f %%\", colors=colores)\n",
        "plt.show()"
      ],
      "execution_count": 96,
      "outputs": [
        {
          "output_type": "display_data",
          "data": {
            "text/plain": [
              "<Figure size 432x288 with 1 Axes>"
            ],
            "image/png": "[encoded data removed]"
          },
          "metadata": {}
        }
      ]
    }
  ]
}